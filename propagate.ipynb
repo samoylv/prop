{
 "metadata": {
  "name": "",
  "signature": "sha256:fde4bbabc72c5a5ec5fddf827dfb79b89e9fcd4dbe5deaf298a3b91d5ba4f7c6"
 },
 "nbformat": 3,
 "nbformat_minor": 0,
 "worksheets": [
  {
   "cells": [
    {
     "cell_type": "code",
     "collapsed": false,
     "input": [
      "# Contact L.Samoylova <liubov.samoylova@xfel.eu>, A.Buzmakov <buzmakov@gmail.com>\n",
      "# SPB S2E simulation project, European XFEL Hamburg <www.xfel.eu>\n",
      "# May 2014\n",
      "# Wave optics software is based on \n",
      "# SRW core library <https://github.com/ochubar/SRW>, and \n",
      "# WPG framework <https://github.com/samoylv/WPG>"
     ],
     "language": "python",
     "metadata": {},
     "outputs": []
    },
    {
     "cell_type": "code",
     "collapsed": false,
     "input": [
      "#$\n",
      "import sys\n",
      "import os\n",
      "import errno\n",
      "\n",
      "sys.path.insert(0,'/data/S2E/packages/WPG/')\n",
      "#\n",
      "# sys.path.insert(0,'../..')\n",
      "\n",
      "import multiprocessing\n",
      "from glob import glob\n",
      "\n",
      "import h5py\n",
      "\n",
      "#Import base wavefront class\n",
      "from wpg import Wavefront\n",
      "import wpg.optical_elements\n",
      "from wpg.optical_elements import Use_PP\n",
      "#from wpg.srwlib import srwl,SRWLOptD,SRWLOptA,SRWLOptC,SRWLOptT,SRWLOptL, SRWLOpt\n"
     ],
     "language": "python",
     "metadata": {},
     "outputs": [],
     "prompt_number": 2
    },
    {
     "cell_type": "code",
     "collapsed": false,
     "input": [
      "def mkdir_p(path):\n",
      "    \"\"\"\n",
      "    Create directory tree, if not exists (mkdir -p)\n",
      "    \"\"\"\n",
      "    try:\n",
      "        os.makedirs(path)\n",
      "    except OSError as exc:  # Python >2.5\n",
      "        if exc.errno == errno.EEXIST and os.path.isdir(path):\n",
      "            pass\n",
      "        else:\n",
      "            raise"
     ],
     "language": "python",
     "metadata": {},
     "outputs": [],
     "prompt_number": 1
    },
    {
     "cell_type": "code",
     "collapsed": false,
     "input": [
      "def add_history(wf_file_name, history_file_name):\n",
      "    with h5py.File(wf_file_name) as wf_h5:\n",
      "        with h5py.File(history_file_name) as history_h5:\n",
      "            if 'history' in wf_h5:\n",
      "                del wf_h5['history']\n",
      "            \n",
      "            wf_h5.create_group('/history/parent')\n",
      "            \n",
      "            for k in history_h5:\n",
      "                if not k == 'data':\n",
      "                   history_h5.copy(k,wf_h5['history']['parent'])\n",
      "                else:\n",
      "                   wf_h5['history']['parent']['data'] = h5py.ExternalLink(history_file_name,'/data')"
     ],
     "language": "python",
     "metadata": {},
     "outputs": [],
     "prompt_number": 5
    },
    {
     "cell_type": "code",
     "collapsed": false,
     "input": [
      "def propagate(in_fname, out_fname):\n",
      "    print('Start propagating:'+in_fname)\n",
      "    wf=Wavefront()\n",
      "    wf.load_hdf5(in_fname)\n",
      "    distance = 100.\n",
      "    drift0 = wpg.optical_elements.Drift(distance)\n",
      "    #srwl_bl0 = SRWLOptC([drift0, ], [Use_PP(semi_analytical_treatment=1,zoom=0.1,sampling=4)])\n",
      "    #bl0 = wpg.Beamline(srwl_bl0)\n",
      "\n",
      "    bl0 = wpg.Beamline()\n",
      "    bl0.append(drift0, Use_PP(semi_analytical_treatment=1,zoom=0.1,sampling=4))\n",
      "\n",
      "    wpg.srwlib.srwl.SetRepresElecField(wf._srwl_wf, 'f')\n",
      "    bl0.propagate(wf)\n",
      "    wpg.srwlib.srwl.SetRepresElecField(wf._srwl_wf, 't')\n",
      "\n",
      "    wf.params.Mesh.xMin=wf.params.Mesh.xMin*1.e-4\n",
      "    wf.params.Mesh.xMax=wf.params.Mesh.xMax*1.e-4\n",
      "    wf.params.Mesh.yMin=wf.params.Mesh.yMin*1.e-4\n",
      "    wf.params.Mesh.yMax=wf.params.Mesh.yMax*1.e-4\n",
      "\n",
      "\n",
      "    print('Saving the wavefront data after propagating:'+out_fname)\n",
      "    mkdir_p(os.path.dirname(out_fname))\n",
      "    wf.store_hdf5(out_fname)\n",
      "    add_history(out_fname, in_fname)"
     ],
     "language": "python",
     "metadata": {},
     "outputs": [],
     "prompt_number": 7
    },
    {
     "cell_type": "code",
     "collapsed": false,
     "input": [
      "def propagate_wrap(*params):\n",
      "    in_fname, out_fname = params\n",
      "    return propagate(in_fname, out_fname)"
     ],
     "language": "python",
     "metadata": {},
     "outputs": [],
     "prompt_number": 11
    },
    {
     "cell_type": "code",
     "collapsed": false,
     "input": [
      "def directory_process(in_dname, out_dname, cpu_number):\n",
      "    input_files = glob(os.path.join(in_dname,'FELsource','*.h5'))\n",
      "    out_files = []\n",
      "    for name in input_files:\n",
      "        in_file_name = os.path.split(name)[-1]\n",
      "        out_file_name = in_file_name.replace('prop_in','prop_out')\n",
      "        out_files.append(os.path.join(out_dname,'prop',out_file_name))\n",
      "    \n",
      "    batch_params = zip(input_files, out_files)\n",
      "    print 'Found {} HDF5 files in {}'.format(len(input_files), in_dname)\n",
      "    p=multiprocessing.Pool(processes=cpu_number)\n",
      "    p.map(propagate_wrap, batch_params, chunksize=1)\n",
      "    p.join()\n",
      "    p.close()"
     ],
     "language": "python",
     "metadata": {},
     "outputs": [],
     "prompt_number": 3
    },
    {
     "cell_type": "code",
     "collapsed": false,
     "input": [
      "def main():\n",
      "    from optparse import OptionParser\n",
      "    parser = OptionParser()\n",
      "    parser.add_option(\"-if\", \"--input-file\", dest=\"in_fname\", help=\"Input wavefront file\")\n",
      "    parser.add_option(\"-of\", \"--out-file\", dest=\"out_fname\", help=\"Output wavefront file\")\n",
      "    \n",
      "    parser.add_option(\"-id\", \"--input-directory\", dest=\"in_dname\", help=\"Input directory with wavefront files\")\n",
      "    parser.add_option(\"-od\", \"--output-directory\", dest=\"out_dame\", help=\"Output directory with wavefront files\")\n",
      "    parser.add_option(\"-ncpus\", \"--cpu-number\", dest=\"cpu_number\", default=int((multiprocessing.cpu_count()+1)/2),\n",
      "                      help=\"Number of cores for batch wavefronts propagation, default value NUMBER_OF_CPU/2\")\n",
      "\n",
      "    (options, args) = parser.parse_args()\n",
      "    \n",
      "    \n",
      "    if not (options.in_fname or options.in_dname):   # if filename is not given\n",
      "        parser.error('Input filename or directiry not specified, use -if or -id options')\n",
      "        return \n",
      "    \n",
      "    if not (options.out_fname or options.out_dname):   # if filename is not given\n",
      "        parser.error('Output filename or directiry not specified, use -of or -od options')\n",
      "        return\n",
      "    \n",
      "    if options.in_dname and options.out_dname:\n",
      "        print 'Input directory {}, output directory {}, number of cores {}'.format(\n",
      "            options.in_dname, options.out_dname,options.cpu_number)\n",
      "        print 'Batch propagation started'\n",
      "        directory_process(options.in_dname, options.out_dname, options.cpu_number)\n",
      "        print 'Batch propagation finished'\n",
      "        \n",
      "    elif options.in_fname and options.out_fname:\n",
      "        print 'Input file {}, output file {}'.format(options.in_fname, options.out_fname)\n",
      "        propagate(options.in_fname, options.out_fname)"
     ],
     "language": "python",
     "metadata": {},
     "outputs": [],
     "prompt_number": 8
    },
    {
     "cell_type": "code",
     "collapsed": false,
     "input": [
      "if __name__ == '__main__':\n",
      "    main()"
     ],
     "language": "python",
     "metadata": {},
     "outputs": []
    }
   ],
   "metadata": {}
  }
 ]
}