{
 "metadata": {
  "name": "",
  "signature": "sha256:d0aa443fdbca2dc859e88540f4c2799852452364ecde34449ab692cd64043af1"
 },
 "nbformat": 3,
 "nbformat_minor": 0,
 "worksheets": [
  {
   "cells": [
    {
     "cell_type": "code",
     "collapsed": false,
     "input": [
      "#$\n",
      "import sys\n",
      "import os\n",
      "import errno\n",
      "\n",
      "sys.path.insert(0,'/data/S2E/packages/WPG/')\n",
      "#\n",
      "# sys.path.insert(0,'../..')\n",
      "\n",
      "import shutil\n",
      "import numpy\n",
      "import h5py\n",
      "\n",
      "#Import base wavefront class\n",
      "from wpg import Wavefront\n",
      "import wpg.optical_elements\n",
      "from wpg.optical_elements import Use_PP\n",
      "#from wpg.srwlib import srwl,SRWLOptD,SRWLOptA,SRWLOptC,SRWLOptT,SRWLOptL, SRWLOpt\n"
     ],
     "language": "python",
     "metadata": {},
     "outputs": [],
     "prompt_number": 1
    },
    {
     "cell_type": "code",
     "collapsed": false,
     "input": [
      "def add_history(wf_file_name, history_file_name):\n",
      "    with h5py.File(wf_file_name) as wf_h5:\n",
      "        with h5py.File(history_file_name) as history_h5:\n",
      "            if 'history' in wf_h5:\n",
      "                del wf_h5['history']\n",
      "            \n",
      "            wf_h5.create_group('/history/parent')\n",
      "            \n",
      "            for k in history_h5:\n",
      "                if not k == 'data':\n",
      "                   history_h5.copy(k,wf_h5['history']['parent'])\n",
      "                else:\n",
      "                   wf_h5['history']['parent']['data'] = h5py.ExternalLink(history_file_name,'/data')"
     ],
     "language": "python",
     "metadata": {},
     "outputs": [],
     "prompt_number": 5
    },
    {
     "cell_type": "code",
     "collapsed": false,
     "input": [
      "def propagate(in_fname, out_fname):\n",
      "    wf=Wavefront()\n",
      "    wf.load_hdf5(in_fname)\n",
      "    distance = 100.\n",
      "    drift0 = wpg.optical_elements.Drift(distance)\n",
      "    #srwl_bl0 = SRWLOptC([drift0, ], [Use_PP(semi_analytical_treatment=1,zoom=0.1,sampling=4)])\n",
      "    #bl0 = wpg.Beamline(srwl_bl0)\n",
      "\n",
      "    bl0 = wpg.Beamline()\n",
      "    bl0.append(drift0, Use_PP(semi_analytical_treatment=1,zoom=0.1,sampling=4))\n",
      "\n",
      "    wpg.srwlib.srwl.SetRepresElecField(wf._srwl_wf, 'f')\n",
      "    bl0.propagate(wf)\n",
      "    wpg.srwlib.srwl.SetRepresElecField(wf._srwl_wf, 't')\n",
      "\n",
      "    wf.params.Mesh.xMin=wf.params.Mesh.xMin*1.e-4\n",
      "    wf.params.Mesh.xMax=wf.params.Mesh.xMax*1.e-4\n",
      "    wf.params.Mesh.yMin=wf.params.Mesh.yMin*1.e-4\n",
      "    wf.params.Mesh.yMax=wf.params.Mesh.yMax*1.e-4\n",
      "\n",
      "\n",
      "    print('Saving the wavefront data after propagating:'+out_fname)\n",
      "    wf.store_hdf5(out_fname)\n",
      "    add_history(out_fname, in_fname)"
     ],
     "language": "python",
     "metadata": {},
     "outputs": [],
     "prompt_number": 7
    },
    {
     "cell_type": "code",
     "collapsed": false,
     "input": [
      "def main():\n",
      "    from optparse import OptionParser\n",
      "    parser = OptionParser()\n",
      "    parser.add_option(\"-i\", \"--input-file\", dest=\"in_fname\", help=\"Input wavefront file\", )\n",
      "    parser.add_option(\"-o\", \"--out-file\", dest=\"out_fname\", help=\"Output wavefront file\")\n",
      "\n",
      "    (options, args) = parser.parse_args()\n",
      "    \n",
      "    if not options.in_fname:   # if filename is not given\n",
      "        parser.error('Input filename not given')\n",
      "   \n",
      "    if not options.out_fname:   # if filename is not given\n",
      "        parser.error('Out filename not given')\n",
      "    \n",
      "    propagate(options.in_fname, options.out_fname)"
     ],
     "language": "python",
     "metadata": {},
     "outputs": [],
     "prompt_number": 8
    },
    {
     "cell_type": "code",
     "collapsed": false,
     "input": [
      "if __name__ == '__main__':\n",
      "    main()"
     ],
     "language": "python",
     "metadata": {},
     "outputs": []
    }
   ],
   "metadata": {}
  }
 ]
}